{
 "cells": [
  {
   "cell_type": "code",
   "execution_count": 3,
   "metadata": {},
   "outputs": [
    {
     "name": "stdout",
     "output_type": "stream",
     "text": [
      "Enter elements of the array separated by space: 4 3 4 5 \n",
      "Sum of the array is: 16\n"
     ]
    }
   ],
   "source": [
    "##1. Find Sum of Array:\n",
    "def sum_of_array(arr):\n",
    "    return sum(arr)\n",
    "\n",
    "array = [int(x) for x in input(\"Enter elements of the array separated by space: \").split()]\n",
    "result = sum_of_array(array)\n",
    "print(f\"Sum of the array is: {result}\")\n"
   ]
  },
  {
   "cell_type": "code",
   "execution_count": 4,
   "metadata": {},
   "outputs": [
    {
     "name": "stdout",
     "output_type": "stream",
     "text": [
      "Enter elements of the array separated by space: 4 3 7 8 9 2\n",
      "Largest element in the array is: 9\n"
     ]
    }
   ],
   "source": [
    "##2. Find Largest Element in an Array:\n",
    "def find_largest_element(arr):\n",
    "    return max(arr)\n",
    "\n",
    "array = [int(x) for x in input(\"Enter elements of the array separated by space: \").split()]\n",
    "result = find_largest_element(array)\n",
    "print(f\"Largest element in the array is: {result}\")\n"
   ]
  },
  {
   "cell_type": "code",
   "execution_count": 6,
   "metadata": {},
   "outputs": [
    {
     "name": "stdout",
     "output_type": "stream",
     "text": [
      "Enter elements of the array separated by space: 4 3 5 3\n",
      "Enter the rotation count: 3\n",
      "Array after rotation: [3, 4, 3, 5]\n"
     ]
    }
   ],
   "source": [
    "##3. Array Rotation:\n",
    "def rotate_array(arr, k):\n",
    "    return arr[k:] + arr[:k]\n",
    "\n",
    "array = [int(x) for x in input(\"Enter elements of the array separated by space: \").split()]\n",
    "rotation_count = int(input(\"Enter the rotation count: \"))\n",
    "result = rotate_array(array, rotation_count)\n",
    "print(f\"Array after rotation: {result}\")\n"
   ]
  },
  {
   "cell_type": "code",
   "execution_count": 7,
   "metadata": {},
   "outputs": [
    {
     "name": "stdout",
     "output_type": "stream",
     "text": [
      "Enter elements of the array separated by space: 5 4 3\n",
      "Enter the split index: 1\n",
      "Array after splitting and adding first part to the end: [4, 3, 5]\n"
     ]
    }
   ],
   "source": [
    "##4. Split and Add First Part to the End:\n",
    "def split_and_add(arr, split_index):\n",
    "    return arr[split_index:] + arr[:split_index]\n",
    "\n",
    "array = [int(x) for x in input(\"Enter elements of the array separated by space: \").split()]\n",
    "split_index = int(input(\"Enter the split index: \"))\n",
    "result = split_and_add(array, split_index)\n",
    "print(f\"Array after splitting and adding first part to the end: {result}\")\n"
   ]
  },
  {
   "cell_type": "code",
   "execution_count": 8,
   "metadata": {},
   "outputs": [
    {
     "name": "stdout",
     "output_type": "stream",
     "text": [
      "Enter elements of the array separated by space: 3 4 5 6 7 8\n",
      "The given array is monotonic: True\n"
     ]
    }
   ],
   "source": [
    "##5. Check if Given Array is Monotonic:\n",
    "def is_monotonic(arr):\n",
    "    return all(arr[i] <= arr[i + 1] for i in range(len(arr) - 1)) or all(arr[i] >= arr[i + 1] for i in range(len(arr) - 1))\n",
    "\n",
    "array = [int(x) for x in input(\"Enter elements of the array separated by space: \").split()]\n",
    "result = is_monotonic(array)\n",
    "print(f\"The given array is monotonic: {result}\")\n"
   ]
  },
  {
   "cell_type": "code",
   "execution_count": null,
   "metadata": {},
   "outputs": [],
   "source": []
  }
 ],
 "metadata": {
  "kernelspec": {
   "display_name": "Python 3",
   "language": "python",
   "name": "python3"
  },
  "language_info": {
   "codemirror_mode": {
    "name": "ipython",
    "version": 3
   },
   "file_extension": ".py",
   "mimetype": "text/x-python",
   "name": "python",
   "nbconvert_exporter": "python",
   "pygments_lexer": "ipython3",
   "version": "3.8.5"
  }
 },
 "nbformat": 4,
 "nbformat_minor": 4
}
