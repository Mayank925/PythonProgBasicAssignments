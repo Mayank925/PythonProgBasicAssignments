{
 "cells": [
  {
   "cell_type": "code",
   "execution_count": 1,
   "metadata": {},
   "outputs": [
    {
     "name": "stdout",
     "output_type": "stream",
     "text": [
      "Unique values in dictionary: [1, 2, 3, 4, 5]\n"
     ]
    }
   ],
   "source": [
    "##1. Extract Unique Values from Dictionary Values:\n",
    "def extract_unique_values(dictionary):\n",
    "    unique_values = set(val for sublist in dictionary.values() for val in sublist)\n",
    "    return list(unique_values)\n",
    "\n",
    "sample_dict = {'a': [1, 2, 3], 'b': [2, 3, 4], 'c': [3, 4, 5]}\n",
    "print(f\"Unique values in dictionary: {extract_unique_values(sample_dict)}\")\n"
   ]
  },
  {
   "cell_type": "code",
   "execution_count": 2,
   "metadata": {},
   "outputs": [
    {
     "name": "stdout",
     "output_type": "stream",
     "text": [
      "Sum of dictionary values: 60\n"
     ]
    }
   ],
   "source": [
    "##2. Find the Sum of All Items in a Dictionary:\n",
    "def sum_of_dictionary_items(dictionary):\n",
    "    return sum(value for value in dictionary.values())\n",
    "\n",
    "sample_dict = {'a': 10, 'b': 20, 'c': 30}\n",
    "print(f\"Sum of dictionary values: {sum_of_dictionary_items(sample_dict)}\")\n"
   ]
  },
  {
   "cell_type": "code",
   "execution_count": 3,
   "metadata": {},
   "outputs": [
    {
     "name": "stdout",
     "output_type": "stream",
     "text": [
      "Merged dictionary: {'a': 1, 'b': 3, 'c': 4}\n"
     ]
    }
   ],
   "source": [
    "##3. Merge Two Dictionaries:\n",
    "def merge_dictionaries(dict1, dict2):\n",
    "    merged_dict = {**dict1, **dict2}\n",
    "    return merged_dict\n",
    "\n",
    "dict1 = {'a': 1, 'b': 2}\n",
    "dict2 = {'b': 3, 'c': 4}\n",
    "print(f\"Merged dictionary: {merge_dictionaries(dict1, dict2)}\")\n"
   ]
  },
  {
   "cell_type": "code",
   "execution_count": 4,
   "metadata": {},
   "outputs": [
    {
     "name": "stdout",
     "output_type": "stream",
     "text": [
      "Flat dictionary: {'a': 1, 'b': 2, 'c': 3}\n"
     ]
    }
   ],
   "source": [
    "##4. Convert Key-Values List to Flat Dictionary:\n",
    "def list_to_flat_dict(key_value_list):\n",
    "    flat_dict = dict(key_value_list)\n",
    "    return flat_dict\n",
    "\n",
    "key_value_list = [('a', 1), ('b', 2), ('c', 3)]\n",
    "print(f\"Flat dictionary: {list_to_flat_dict(key_value_list)}\")\n"
   ]
  },
  {
   "cell_type": "code",
   "execution_count": null,
   "metadata": {},
   "outputs": [],
   "source": [
    "##5. Insertion at the Beginning in OrderedDict:\n",
    "from collections import OrderedDict\n",
    "\n",
    "def insert_at_beginning(ordered_dict, key, value):\n",
    "    ordered_dict.move_to_end(key, last=False)\n",
    "    ordered_dict[key] = value\n",
    "\n",
    "ordered_dict = OrderedDict([('a', 1), ('b', 2), ('c', 3)])\n",
    "insert_at_beginning(ordered_dict, 'd', 4)\n",
    "print(f\"OrderedDict after insertion at the beginning: {ordered_dict}\")\n"
   ]
  },
  {
   "cell_type": "code",
   "execution_count": null,
   "metadata": {},
   "outputs": [],
   "source": [
    "##6. Check Order of Characters in String using OrderedDict:\n",
    "from collections import OrderedDict\n",
    "\n",
    "def check_order(string, pattern):\n",
    "    pattern_dict = OrderedDict.fromkeys(pattern)\n",
    "    return ''.join(pattern_dict.keys()) in string\n",
    "\n",
    "input_string = input(\"Enter a string: \")\n",
    "input_pattern = input(\"Enter a pattern to check order: \")\n",
    "print(f\"Does the string follow the order of the pattern? {check_order(input_string, input_pattern)}\")\n"
   ]
  },
  {
   "cell_type": "code",
   "execution_count": null,
   "metadata": {},
   "outputs": [],
   "source": [
    "##7. Sort Python Dictionaries by Key or Value:\n",
    "def sort_dictionary(dictionary, by_key=True):\n",
    "    return dict(sorted(dictionary.items(), key=lambda x: x[0 if by_key else 1]))\n",
    "\n",
    "sample_dict = {'c': 10, 'a': 30, 'b': 20}\n",
    "print(f\"Sorted dictionary by key: {sort_dictionary(sample_dict)}\")\n",
    "print(f\"Sorted dictionary by value: {sort_dictionary(sample_dict, by_key=False)}\")\n"
   ]
  }
 ],
 "metadata": {
  "kernelspec": {
   "display_name": "Python 3",
   "language": "python",
   "name": "python3"
  },
  "language_info": {
   "codemirror_mode": {
    "name": "ipython",
    "version": 3
   },
   "file_extension": ".py",
   "mimetype": "text/x-python",
   "name": "python",
   "nbconvert_exporter": "python",
   "pygments_lexer": "ipython3",
   "version": "3.8.5"
  }
 },
 "nbformat": 4,
 "nbformat_minor": 4
}
