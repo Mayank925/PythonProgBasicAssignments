{
 "cells": [
  {
   "cell_type": "code",
   "execution_count": 1,
   "metadata": {},
   "outputs": [
    {
     "name": "stdout",
     "output_type": "stream",
     "text": [
      "Enter a value for n: 100\n",
      "0,35,70\n"
     ]
    }
   ],
   "source": [
    "##Question 1:\n",
    "def divisible_by_5_and_7_generator(n):\n",
    "    for i in range(n + 1):\n",
    "        if i % 5 == 0 and i % 7 == 0:\n",
    "            yield i\n",
    "\n",
    "n_value = int(input(\"Enter a value for n: \"))\n",
    "result = list(divisible_by_5_and_7_generator(n_value))\n",
    "print(','.join(map(str, result)))\n"
   ]
  },
  {
   "cell_type": "code",
   "execution_count": 2,
   "metadata": {},
   "outputs": [
    {
     "name": "stdout",
     "output_type": "stream",
     "text": [
      "Enter a value for n: 10\n",
      "0,2,4,6,8,10\n"
     ]
    }
   ],
   "source": [
    "##Question 2:\n",
    "def even_numbers_generator(n):\n",
    "    for i in range(n + 1):\n",
    "        if i % 2 == 0:\n",
    "            yield i\n",
    "\n",
    "n_value = int(input(\"Enter a value for n: \"))\n",
    "result = list(even_numbers_generator(n_value))\n",
    "print(','.join(map(str, result)))\n"
   ]
  },
  {
   "cell_type": "code",
   "execution_count": 3,
   "metadata": {},
   "outputs": [
    {
     "name": "stdout",
     "output_type": "stream",
     "text": [
      "Enter a value for n: 15\n",
      "0,1,1,2,3,5,8,13,21,34,55,89,144,233,377,610\n"
     ]
    }
   ],
   "source": [
    "##Question 3:\n",
    "def fibonacci_sequence(n):\n",
    "    fib_sequence = [0, 1]\n",
    "    [fib_sequence.append(fib_sequence[-1] + fib_sequence[-2]) for _ in range(n - 1)]\n",
    "    return fib_sequence\n",
    "\n",
    "n_value = int(input(\"Enter a value for n: \"))\n",
    "result = fibonacci_sequence(n_value)\n",
    "print(','.join(map(str, result)))\n"
   ]
  },
  {
   "cell_type": "code",
   "execution_count": 4,
   "metadata": {},
   "outputs": [
    {
     "name": "stdout",
     "output_type": "stream",
     "text": [
      "Enter an email address: john@google.com\n",
      "john\n"
     ]
    }
   ],
   "source": [
    "##Question 4:\n",
    "def extract_username(email_address):\n",
    "    return email_address.split('@')[0]\n",
    "\n",
    "email_input = input(\"Enter an email address: \")\n",
    "username = extract_username(email_input)\n",
    "print(username)\n"
   ]
  },
  {
   "cell_type": "code",
   "execution_count": 5,
   "metadata": {},
   "outputs": [
    {
     "name": "stdout",
     "output_type": "stream",
     "text": [
      "Area of the square: 16\n"
     ]
    }
   ],
   "source": [
    "##Question 5:\n",
    "class Shape:\n",
    "    def area(self):\n",
    "        return 0\n",
    "\n",
    "class Square(Shape):\n",
    "    def __init__(self, length):\n",
    "        self.length = length\n",
    "\n",
    "    def area(self):\n",
    "        return self.length ** 2\n",
    "\n",
    "# Example usage:\n",
    "square_instance = Square(4)\n",
    "print(f\"Area of the square: {square_instance.area()}\")\n"
   ]
  }
 ],
 "metadata": {
  "kernelspec": {
   "display_name": "Python 3",
   "language": "python",
   "name": "python3"
  },
  "language_info": {
   "codemirror_mode": {
    "name": "ipython",
    "version": 3
   },
   "file_extension": ".py",
   "mimetype": "text/x-python",
   "name": "python",
   "nbconvert_exporter": "python",
   "pygments_lexer": "ipython3",
   "version": "3.8.5"
  }
 },
 "nbformat": 4,
 "nbformat_minor": 4
}
