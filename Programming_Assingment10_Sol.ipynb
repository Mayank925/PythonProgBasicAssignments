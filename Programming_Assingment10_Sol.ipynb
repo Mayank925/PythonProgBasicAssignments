{
 "cells": [
  {
   "cell_type": "code",
   "execution_count": 1,
   "metadata": {},
   "outputs": [
    {
     "name": "stdout",
     "output_type": "stream",
     "text": [
      "Enter numbers separated by space: 2 3 4 5\n",
      "Sum of elements in the list: 14\n"
     ]
    }
   ],
   "source": [
    "##1. Find Sum of Elements in a List:\n",
    "def sum_of_elements(lst):\n",
    "    return sum(lst)\n",
    "\n",
    "numbers = [int(x) for x in input(\"Enter numbers separated by space: \").split()]\n",
    "print(f\"Sum of elements in the list: {sum_of_elements(numbers)}\")\n"
   ]
  },
  {
   "cell_type": "code",
   "execution_count": 2,
   "metadata": {},
   "outputs": [
    {
     "name": "stdout",
     "output_type": "stream",
     "text": [
      "Enter numbers separated by space: 1 2 3\n",
      "Product of all numbers in the list: 6\n"
     ]
    }
   ],
   "source": [
    "##2. Multiply All Numbers in a List:\n",
    "def multiply_all_numbers(lst):\n",
    "    result = 1\n",
    "    for num in lst:\n",
    "        result *= num\n",
    "    return result\n",
    "\n",
    "numbers = [int(x) for x in input(\"Enter numbers separated by space: \").split()]\n",
    "print(f\"Product of all numbers in the list: {multiply_all_numbers(numbers)}\")\n"
   ]
  },
  {
   "cell_type": "code",
   "execution_count": 3,
   "metadata": {},
   "outputs": [
    {
     "name": "stdout",
     "output_type": "stream",
     "text": [
      "Enter numbers separated by space: 3 4 5\n",
      "Smallest number in the list: 3\n"
     ]
    }
   ],
   "source": [
    "##3. Find Smallest Number in a List:\n",
    "def find_smallest_number(lst):\n",
    "    return min(lst)\n",
    "\n",
    "numbers = [int(x) for x in input(\"Enter numbers separated by space: \").split()]\n",
    "print(f\"Smallest number in the list: {find_smallest_number(numbers)}\")\n"
   ]
  },
  {
   "cell_type": "code",
   "execution_count": 4,
   "metadata": {},
   "outputs": [
    {
     "name": "stdout",
     "output_type": "stream",
     "text": [
      "Enter numbers separated by space: 3 4 5\n",
      "Largest number in the list: 5\n"
     ]
    }
   ],
   "source": [
    "##4. Find Largest Number in a List:\n",
    "def find_largest_number(lst):\n",
    "    return max(lst)\n",
    "\n",
    "numbers = [int(x) for x in input(\"Enter numbers separated by space: \").split()]\n",
    "print(f\"Largest number in the list: {find_largest_number(numbers)}\")\n"
   ]
  },
  {
   "cell_type": "code",
   "execution_count": 5,
   "metadata": {},
   "outputs": [
    {
     "name": "stdout",
     "output_type": "stream",
     "text": [
      "Enter numbers separated by space: 3 4 5\n",
      "Second largest number in the list: 4\n"
     ]
    }
   ],
   "source": [
    "##5. Find Second Largest Number in a List:\n",
    "def find_second_largest(lst):\n",
    "    unique_numbers = list(set(lst))\n",
    "    unique_numbers.sort()\n",
    "    return unique_numbers[-2] if len(unique_numbers) >= 2 else \"List has less than two unique elements.\"\n",
    "\n",
    "numbers = [int(x) for x in input(\"Enter numbers separated by space: \").split()]\n",
    "print(f\"Second largest number in the list: {find_second_largest(numbers)}\")\n"
   ]
  },
  {
   "cell_type": "code",
   "execution_count": 6,
   "metadata": {},
   "outputs": [
    {
     "name": "stdout",
     "output_type": "stream",
     "text": [
      "Enter numbers separated by space: 4 5 3\n",
      "Enter the value of N: 3\n",
      "3 largest elements in the list: [5, 4, 3]\n"
     ]
    }
   ],
   "source": [
    "##6. Find N Largest Elements from a List:\n",
    "def find_n_largest(lst, n):\n",
    "    return sorted(lst, reverse=True)[:n]\n",
    "\n",
    "numbers = [int(x) for x in input(\"Enter numbers separated by space: \").split()]\n",
    "n = int(input(\"Enter the value of N: \"))\n",
    "print(f\"{n} largest elements in the list: {find_n_largest(numbers, n)}\")\n"
   ]
  },
  {
   "cell_type": "code",
   "execution_count": 7,
   "metadata": {},
   "outputs": [
    {
     "name": "stdout",
     "output_type": "stream",
     "text": [
      "Enter numbers separated by space: 4 5 6 7\n",
      "Even numbers in the list: [4, 6]\n"
     ]
    }
   ],
   "source": [
    "##7. Print Even Numbers in a List:\n",
    "def print_even_numbers(lst):\n",
    "    return [num for num in lst if num % 2 == 0]\n",
    "\n",
    "numbers = [int(x) for x in input(\"Enter numbers separated by space: \").split()]\n",
    "print(f\"Even numbers in the list: {print_even_numbers(numbers)}\")\n"
   ]
  },
  {
   "cell_type": "code",
   "execution_count": 8,
   "metadata": {},
   "outputs": [
    {
     "name": "stdout",
     "output_type": "stream",
     "text": [
      "Enter numbers separated by space: 4 5 6 7 8\n",
      "Odd numbers in the list: [5, 7]\n"
     ]
    }
   ],
   "source": [
    "##8. Print Odd Numbers in a List:\n",
    "def print_odd_numbers(lst):\n",
    "    return [num for num in lst if num % 2 != 0]\n",
    "\n",
    "numbers = [int(x) for x in input(\"Enter numbers separated by space: \").split()]\n",
    "print(f\"Odd numbers in the list: {print_odd_numbers(numbers)}\")\n"
   ]
  },
  {
   "cell_type": "code",
   "execution_count": 9,
   "metadata": {},
   "outputs": [
    {
     "name": "stdout",
     "output_type": "stream",
     "text": [
      "List after removing empty lists: [[1, 2, 3], [4, 5], [6]]\n"
     ]
    }
   ],
   "source": [
    "##9. Remove Empty List from List:\n",
    "def remove_empty_lists(lst):\n",
    "    return [sublist for sublist in lst if sublist]\n",
    "\n",
    "nested_list = [[1, 2, 3], [], [4, 5], [], [6]]\n",
    "filtered_list = remove_empty_lists(nested_list)\n",
    "print(f\"List after removing empty lists: {filtered_list}\")\n"
   ]
  },
  {
   "cell_type": "code",
   "execution_count": 10,
   "metadata": {},
   "outputs": [
    {
     "name": "stdout",
     "output_type": "stream",
     "text": [
      "Original List: [1, 2, 3, 4, 5]\n",
      "Cloned List: [1, 2, 3, 4, 5]\n"
     ]
    }
   ],
   "source": [
    "##10. Cloning or Copying a List:\n",
    "def clone_list(lst):\n",
    "    return lst.copy()\n",
    "\n",
    "original_list = [1, 2, 3, 4, 5]\n",
    "cloned_list = clone_list(original_list)\n",
    "print(f\"Original List: {original_list}\")\n",
    "print(f\"Cloned List: {cloned_list}\")\n"
   ]
  },
  {
   "cell_type": "code",
   "execution_count": 11,
   "metadata": {},
   "outputs": [
    {
     "name": "stdout",
     "output_type": "stream",
     "text": [
      "Enter the element to count: 3\n",
      "Occurrences of 3 in the list: 1\n"
     ]
    }
   ],
   "source": [
    "##11. Count Occurrences of an Element in a List:\n",
    "def count_occurrences(lst, element):\n",
    "    return lst.count(element)\n",
    "\n",
    "numbers = [1, 2, 3, 4, 2, 5, 2]\n",
    "element_to_count = int(input(\"Enter the element to count: \"))\n",
    "print(f\"Occurrences of {element_to_count} in the list: {count_occurrences(numbers, element_to_count)}\")\n"
   ]
  },
  {
   "cell_type": "code",
   "execution_count": null,
   "metadata": {},
   "outputs": [],
   "source": []
  }
 ],
 "metadata": {
  "kernelspec": {
   "display_name": "Python 3",
   "language": "python",
   "name": "python3"
  },
  "language_info": {
   "codemirror_mode": {
    "name": "ipython",
    "version": 3
   },
   "file_extension": ".py",
   "mimetype": "text/x-python",
   "name": "python",
   "nbconvert_exporter": "python",
   "pygments_lexer": "ipython3",
   "version": "3.8.5"
  }
 },
 "nbformat": 4,
 "nbformat_minor": 4
}
