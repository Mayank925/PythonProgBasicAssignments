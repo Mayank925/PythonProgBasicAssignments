{
 "cells": [
  {
   "cell_type": "code",
   "execution_count": 1,
   "metadata": {},
   "outputs": [
    {
     "name": "stdout",
     "output_type": "stream",
     "text": [
      "Enter a sentence: This is Mayank\n",
      "Enter the value of K: 4\n",
      "Words greater than length 4: ['Mayank']\n"
     ]
    }
   ],
   "source": [
    "##1. Find Words Greater Than Length K:\n",
    "def words_greater_than_length_k(sentence, k):\n",
    "    words = sentence.split()\n",
    "    result = [word for word in words if len(word) > k]\n",
    "    return result\n",
    "\n",
    "input_sentence = input(\"Enter a sentence: \")\n",
    "length_k = int(input(\"Enter the value of K: \"))\n",
    "print(f\"Words greater than length {length_k}: {words_greater_than_length_k(input_sentence, length_k)}\")\n"
   ]
  },
  {
   "cell_type": "code",
   "execution_count": 2,
   "metadata": {},
   "outputs": [
    {
     "name": "stdout",
     "output_type": "stream",
     "text": [
      "Enter a string: rfgdfge\n",
      "Enter the index to remove: 3\n",
      "String after removing 3-th character: rfgfge\n"
     ]
    }
   ],
   "source": [
    "##2. Remove i-th Character from a String:\n",
    "def remove_ith_character(input_str, i):\n",
    "    if 0 <= i < len(input_str):\n",
    "        result = input_str[:i] + input_str[i+1:]\n",
    "        return result\n",
    "    else:\n",
    "        return \"Invalid index.\"\n",
    "\n",
    "input_string = input(\"Enter a string: \")\n",
    "index_to_remove = int(input(\"Enter the index to remove: \"))\n",
    "print(f\"String after removing {index_to_remove}-th character: {remove_ith_character(input_string, index_to_remove)}\")\n"
   ]
  },
  {
   "cell_type": "code",
   "execution_count": 4,
   "metadata": {},
   "outputs": [
    {
     "name": "stdout",
     "output_type": "stream",
     "text": [
      "Enter a string: 3443gfgf\n",
      "String after split and join: 3443gfgf\n"
     ]
    }
   ],
   "source": [
    "##3. Split and Join a String:\n",
    "def split_and_join(input_str):\n",
    "    words = input_str.split()\n",
    "    joined_str = '-'.join(words)\n",
    "    return joined_str\n",
    "\n",
    "input_string = input(\"Enter a string: \")\n",
    "print(f\"String after split and join: {split_and_join(input_string)}\")\n"
   ]
  },
  {
   "cell_type": "code",
   "execution_count": 5,
   "metadata": {},
   "outputs": [
    {
     "name": "stdout",
     "output_type": "stream",
     "text": [
      "Enter a string: fdgdf\n",
      "Is the string a binary string? False\n"
     ]
    }
   ],
   "source": [
    "##4. Check if a Given String is Binary:\n",
    "def is_binary_string(input_str):\n",
    "    return all(bit in '01' for bit in input_str)\n",
    "\n",
    "binary_string = input(\"Enter a string: \")\n",
    "print(f\"Is the string a binary string? {is_binary_string(binary_string)}\")\n"
   ]
  },
  {
   "cell_type": "code",
   "execution_count": 6,
   "metadata": {},
   "outputs": [
    {
     "name": "stdout",
     "output_type": "stream",
     "text": [
      "Enter the first string: dcsvc\n",
      "Enter the second string: sdvsd\n",
      "Uncommon words between the two strings: {'sdvsd', 'dcsvc'}\n"
     ]
    }
   ],
   "source": [
    "##5. Find Uncommon Words from Two Strings:\n",
    "def uncommon_words(str1, str2):\n",
    "    set1 = set(str1.split())\n",
    "    set2 = set(str2.split())\n",
    "    result = set1.symmetric_difference(set2)\n",
    "    return result\n",
    "\n",
    "string1 = input(\"Enter the first string: \")\n",
    "string2 = input(\"Enter the second string: \")\n",
    "print(f\"Uncommon words between the two strings: {uncommon_words(string1, string2)}\")\n"
   ]
  },
  {
   "cell_type": "code",
   "execution_count": 7,
   "metadata": {},
   "outputs": [
    {
     "name": "stdout",
     "output_type": "stream",
     "text": [
      "Enter a string: dsvsdvdddd\n",
      "Duplicate characters in the string: ['d', 's', 'v']\n"
     ]
    }
   ],
   "source": [
    "##6. Find All Duplicate Characters in a String:\n",
    "def find_duplicate_characters(input_str):\n",
    "    char_count = {}\n",
    "    duplicates = set()\n",
    "\n",
    "    for char in input_str:\n",
    "        if char in char_count:\n",
    "            char_count[char] += 1\n",
    "            duplicates.add(char)\n",
    "        else:\n",
    "            char_count[char] = 1\n",
    "\n",
    "    return list(duplicates)\n",
    "\n",
    "input_string = input(\"Enter a string: \")\n",
    "print(f\"Duplicate characters in the string: {find_duplicate_characters(input_string)}\")\n"
   ]
  },
  {
   "cell_type": "code",
   "execution_count": 8,
   "metadata": {},
   "outputs": [
    {
     "name": "stdout",
     "output_type": "stream",
     "text": [
      "Enter a string: fdvdf@#\n",
      "Does the string contain any special character? True\n"
     ]
    }
   ],
   "source": [
    "##7. Check if a String Contains Any Special Character:\n",
    "def contains_special_character(input_str):\n",
    "    special_characters = set('[@_!#$%^&*()<>?/\\|}{~:]')\n",
    "    return any(char in special_characters for char in input_str)\n",
    "\n",
    "input_string = input(\"Enter a string: \")\n",
    "print(f\"Does the string contain any special character? {contains_special_character(input_string)}\")\n"
   ]
  },
  {
   "cell_type": "code",
   "execution_count": null,
   "metadata": {},
   "outputs": [],
   "source": []
  }
 ],
 "metadata": {
  "kernelspec": {
   "display_name": "Python 3",
   "language": "python",
   "name": "python3"
  },
  "language_info": {
   "codemirror_mode": {
    "name": "ipython",
    "version": 3
   },
   "file_extension": ".py",
   "mimetype": "text/x-python",
   "name": "python",
   "nbconvert_exporter": "python",
   "pygments_lexer": "ipython3",
   "version": "3.8.5"
  }
 },
 "nbformat": 4,
 "nbformat_minor": 4
}
