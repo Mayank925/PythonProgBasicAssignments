{
 "cells": [
  {
   "cell_type": "code",
   "execution_count": 1,
   "metadata": {},
   "outputs": [
    {
     "name": "stdout",
     "output_type": "stream",
     "text": [
      "Enter a comma-separated sequence of values for D: 100,150,180\n",
      "18,22,24\n"
     ]
    }
   ],
   "source": [
    "##Sol_1\n",
    "import math\n",
    "\n",
    "def calculate_q(sequence):\n",
    "    C, H = 50, 30\n",
    "    result = []\n",
    "    for D in sequence:\n",
    "        Q = round(math.sqrt((2 * C * D) / H))\n",
    "        result.append(Q)\n",
    "    return result\n",
    "\n",
    "input_sequence = input(\"Enter a comma-separated sequence of values for D: \").split(',')\n",
    "result_sequence = calculate_q(map(int, input_sequence))\n",
    "print(','.join(map(str, result_sequence)))\n"
   ]
  },
  {
   "cell_type": "code",
   "execution_count": 2,
   "metadata": {},
   "outputs": [
    {
     "name": "stdout",
     "output_type": "stream",
     "text": [
      "Enter two digits X and Y separated by a comma: 3,5\n",
      "[[0, 0, 0, 0, 0], [0, 1, 2, 3, 4], [0, 2, 4, 6, 8]]\n"
     ]
    }
   ],
   "source": [
    "####Sol_2\n",
    "def generate_2d_array(X, Y):\n",
    "    return [[i*j for j in range(Y)] for i in range(X)]\n",
    "\n",
    "X, Y = map(int, input(\"Enter two digits X and Y separated by a comma: \").split(','))\n",
    "result_array = generate_2d_array(X, Y)\n",
    "print(result_array)\n"
   ]
  },
  {
   "cell_type": "code",
   "execution_count": 3,
   "metadata": {},
   "outputs": [
    {
     "name": "stdout",
     "output_type": "stream",
     "text": [
      "Enter a comma-separated sequence of words: without,hello,bag,world\n",
      "bag,hello,without,world\n"
     ]
    }
   ],
   "source": [
    "##Question 3:\n",
    "def sort_words(input_string):\n",
    "    words = input_string.split(',')\n",
    "    sorted_words = sorted(words)\n",
    "    return ','.join(sorted_words)\n",
    "\n",
    "input_words = input(\"Enter a comma-separated sequence of words: \")\n",
    "result_sorted_words = sort_words(input_words)\n",
    "print(result_sorted_words)\n"
   ]
  },
  {
   "cell_type": "code",
   "execution_count": 4,
   "metadata": {},
   "outputs": [
    {
     "name": "stdout",
     "output_type": "stream",
     "text": [
      "Enter a sequence of whitespace-separated words: hello world and practice makes perfect and hello world again\n",
      "again and hello makes perfect practice world\n"
     ]
    }
   ],
   "source": [
    "##Question 4:\n",
    "def remove_duplicates_and_sort(input_string):\n",
    "    words = input_string.split()\n",
    "    unique_words = sorted(set(words))\n",
    "    return ' '.join(unique_words)\n",
    "\n",
    "input_sentence = input(\"Enter a sequence of whitespace-separated words: \")\n",
    "result_unique_sorted_words = remove_duplicates_and_sort(input_sentence)\n",
    "print(result_unique_sorted_words)\n"
   ]
  },
  {
   "cell_type": "code",
   "execution_count": 5,
   "metadata": {},
   "outputs": [
    {
     "name": "stdout",
     "output_type": "stream",
     "text": [
      "Enter a sentence: hello world! 123\n",
      "LETTERS 10\n",
      "DIGITS 3\n"
     ]
    }
   ],
   "source": [
    "##Question 5:\n",
    "def count_letters_digits(sentence):\n",
    "    letters, digits = 0, 0\n",
    "    for char in sentence:\n",
    "        if char.isalpha():\n",
    "            letters += 1\n",
    "        elif char.isdigit():\n",
    "            digits += 1\n",
    "    return letters, digits\n",
    "\n",
    "input_sentence = input(\"Enter a sentence: \")\n",
    "letter_count, digit_count = count_letters_digits(input_sentence)\n",
    "print(f\"LETTERS {letter_count}\\nDIGITS {digit_count}\")\n"
   ]
  },
  {
   "cell_type": "code",
   "execution_count": 6,
   "metadata": {},
   "outputs": [
    {
     "name": "stdout",
     "output_type": "stream",
     "text": [
      "Enter comma-separated passwords: ABd1234@1,a F1#,2w3E*,2We3345\n",
      "ABd1234@1\n"
     ]
    }
   ],
   "source": [
    "##Question 6:\n",
    "import re\n",
    "\n",
    "def check_password_validity(passwords):\n",
    "    valid_passwords = []\n",
    "    for password in passwords:\n",
    "        if (len(password) >= 6 and len(password) <= 12 and\n",
    "                re.search(\"[a-z]\", password) and re.search(\"[0-9]\", password) and\n",
    "                re.search(\"[A-Z]\", password) and re.search(\"[$#@]\", password)):\n",
    "            valid_passwords.append(password)\n",
    "    return valid_passwords\n",
    "\n",
    "input_passwords = input(\"Enter comma-separated passwords: \").split(',')\n",
    "result_valid_passwords = check_password_validity(input_passwords)\n",
    "print(','.join(result_valid_passwords))\n"
   ]
  },
  {
   "cell_type": "code",
   "execution_count": null,
   "metadata": {},
   "outputs": [],
   "source": []
  }
 ],
 "metadata": {
  "kernelspec": {
   "display_name": "Python 3",
   "language": "python",
   "name": "python3"
  },
  "language_info": {
   "codemirror_mode": {
    "name": "ipython",
    "version": 3
   },
   "file_extension": ".py",
   "mimetype": "text/x-python",
   "name": "python",
   "nbconvert_exporter": "python",
   "pygments_lexer": "ipython3",
   "version": "3.8.5"
  }
 },
 "nbformat": 4,
 "nbformat_minor": 4
}
