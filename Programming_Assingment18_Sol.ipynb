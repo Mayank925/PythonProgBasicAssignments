{
 "cells": [
  {
   "cell_type": "code",
   "execution_count": 1,
   "metadata": {},
   "outputs": [
    {
     "name": "stdout",
     "output_type": "stream",
     "text": [
      "[1, 2]\n",
      "[1, 0, 15]\n",
      "[1, 2, 123]\n"
     ]
    }
   ],
   "source": [
    "##Question 1:\n",
    "def filter_list(lst):\n",
    "    return [i for i in lst if isinstance(i, int)]\n",
    "\n",
    "# Examples\n",
    "print(filter_list([1, 2, \"a\", \"b\"]))         \n",
    "print(filter_list([1, \"a\", \"b\", 0, 15]))     \n",
    "print(filter_list([1, 2, \"aasf\", \"1\", \"123\", 123])) \n"
   ]
  },
  {
   "cell_type": "code",
   "execution_count": 2,
   "metadata": {},
   "outputs": [
    {
     "name": "stdout",
     "output_type": "stream",
     "text": [
      "DLROw OLLEh\n",
      "eSrEvEr\n",
      "RADAr\n"
     ]
    }
   ],
   "source": [
    "##Question 2:\n",
    "def reverse(s):\n",
    "    return s[::-1].swapcase()\n",
    "\n",
    "# Examples\n",
    "print(reverse(\"Hello World\")) \n",
    "print(reverse(\"ReVeRsE\"))     \n",
    "print(reverse(\"Radar\"))       \n"
   ]
  },
  {
   "cell_type": "code",
   "execution_count": 3,
   "metadata": {},
   "outputs": [
    {
     "name": "stdout",
     "output_type": "stream",
     "text": [
      "1\n",
      "[2, 3, 4, 5]\n",
      "6\n"
     ]
    }
   ],
   "source": [
    "##Question 3:\n",
    "writeyourcodehere = [1, 2, 3, 4, 5, 6]\n",
    "first, *middle, last = writeyourcodehere\n",
    "print(first)   \n",
    "print(middle)  \n",
    "print(last)    \n"
   ]
  },
  {
   "cell_type": "code",
   "execution_count": 4,
   "metadata": {},
   "outputs": [
    {
     "name": "stdout",
     "output_type": "stream",
     "text": [
      "120\n",
      "6\n",
      "1\n",
      "1\n"
     ]
    }
   ],
   "source": [
    "##Question 4:\n",
    "def factorial(n):\n",
    "    if n == 0 or n == 1:\n",
    "        return 1\n",
    "    else:\n",
    "        return n * factorial(n - 1)\n",
    "\n",
    "# Examples\n",
    "print(factorial(5))\n",
    "print(factorial(3))\n",
    "print(factorial(1)) \n",
    "print(factorial(0)) \n"
   ]
  },
  {
   "cell_type": "code",
   "execution_count": 5,
   "metadata": {},
   "outputs": [
    {
     "name": "stdout",
     "output_type": "stream",
     "text": [
      "[3, 2, 4, 4, 1, 1]\n",
      "[7, 8, 1, 2, 3, 4, 9]\n",
      "['b', 'a', 'a', 'a']\n"
     ]
    }
   ],
   "source": [
    "##Question 5:\n",
    "def move_to_end(lst, element):\n",
    "    return [i for i in lst if i != element] + [i for i in lst if i == element]\n",
    "\n",
    "# Examples\n",
    "print(move_to_end([1, 3, 2, 4, 4, 1], 1))           \n",
    "print(move_to_end([7, 8, 9, 1, 2, 3, 4], 9))   \n",
    "print(move_to_end([\"a\", \"a\", \"a\", \"b\"], \"a\")) \n"
   ]
  },
  {
   "cell_type": "code",
   "execution_count": null,
   "metadata": {},
   "outputs": [],
   "source": []
  }
 ],
 "metadata": {
  "kernelspec": {
   "display_name": "Python 3",
   "language": "python",
   "name": "python3"
  },
  "language_info": {
   "codemirror_mode": {
    "name": "ipython",
    "version": 3
   },
   "file_extension": ".py",
   "mimetype": "text/x-python",
   "name": "python",
   "nbconvert_exporter": "python",
   "pygments_lexer": "ipython3",
   "version": "3.8.5"
  }
 },
 "nbformat": 4,
 "nbformat_minor": 4
}
