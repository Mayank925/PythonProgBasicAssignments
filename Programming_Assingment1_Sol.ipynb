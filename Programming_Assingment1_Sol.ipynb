{
 "cells": [
  {
   "cell_type": "code",
   "execution_count": 1,
   "metadata": {},
   "outputs": [
    {
     "name": "stdout",
     "output_type": "stream",
     "text": [
      "Hello Python\n"
     ]
    }
   ],
   "source": [
    "## Write a Python program to print \"Hello Python\"?\n",
    "print(\"Hello Python\")\n"
   ]
  },
  {
   "cell_type": "code",
   "execution_count": 2,
   "metadata": {},
   "outputs": [
    {
     "name": "stdout",
     "output_type": "stream",
     "text": [
      "Sum: 15\n",
      "Division Result: 5.0\n"
     ]
    }
   ],
   "source": [
    "## Write a Python program to do arithmetical operations addition and division.?\n",
    "# Addition\n",
    "num1 = 10\n",
    "num2 = 5\n",
    "sum_result = num1 + num2\n",
    "print(\"Sum:\", sum_result)\n",
    "\n",
    "# Division\n",
    "dividend = 20\n",
    "divisor = 4\n",
    "division_result = dividend / divisor\n",
    "print(\"Division Result:\", division_result)\n"
   ]
  },
  {
   "cell_type": "code",
   "execution_count": 3,
   "metadata": {},
   "outputs": [
    {
     "name": "stdout",
     "output_type": "stream",
     "text": [
      "Area of the triangle: 17.320508075688775\n"
     ]
    }
   ],
   "source": [
    "## Write a Python program to find the area of a triangle?\n",
    "# Using Heron's Formula\n",
    "import math\n",
    "\n",
    "def calculate_triangle_area(a, b, c):\n",
    "    s = (a + b + c) / 2\n",
    "    area = math.sqrt(s * (s - a) * (s - b) * (s - c))\n",
    "    return area\n",
    "\n",
    "# Example sides of a triangle\n",
    "side1 = 5\n",
    "side2 = 7\n",
    "side3 = 8\n",
    "\n",
    "triangle_area = calculate_triangle_area(side1, side2, side3)\n",
    "print(\"Area of the triangle:\", triangle_area)\n"
   ]
  },
  {
   "cell_type": "code",
   "execution_count": 4,
   "metadata": {},
   "outputs": [
    {
     "name": "stdout",
     "output_type": "stream",
     "text": [
      "After swapping - a: 10 b: 5\n"
     ]
    }
   ],
   "source": [
    "## Write a Python program to swap two variables?\n",
    "# Swap using a temporary variable\n",
    "a = 5\n",
    "b = 10\n",
    "temp = a\n",
    "a = b\n",
    "b = temp\n",
    "print(\"After swapping - a:\", a, \"b:\", b)\n"
   ]
  },
  {
   "cell_type": "code",
   "execution_count": 5,
   "metadata": {},
   "outputs": [
    {
     "name": "stdout",
     "output_type": "stream",
     "text": [
      "Random Number: 2\n"
     ]
    }
   ],
   "source": [
    "## Write a Python program to generate a random number?\n",
    "import random\n",
    "\n",
    "random_number = random.randint(1, 100)  # Generates a random number between 1 and 100\n",
    "print(\"Random Number:\", random_number)\n"
   ]
  },
  {
   "cell_type": "code",
   "execution_count": null,
   "metadata": {},
   "outputs": [],
   "source": []
  }
 ],
 "metadata": {
  "kernelspec": {
   "display_name": "Python 3",
   "language": "python",
   "name": "python3"
  },
  "language_info": {
   "codemirror_mode": {
    "name": "ipython",
    "version": 3
   },
   "file_extension": ".py",
   "mimetype": "text/x-python",
   "name": "python",
   "nbconvert_exporter": "python",
   "pygments_lexer": "ipython3",
   "version": "3.8.5"
  }
 },
 "nbformat": 4,
 "nbformat_minor": 4
}
