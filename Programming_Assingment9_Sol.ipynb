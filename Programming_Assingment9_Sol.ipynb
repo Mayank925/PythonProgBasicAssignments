{
 "cells": [
  {
   "cell_type": "code",
   "execution_count": 1,
   "metadata": {},
   "outputs": [
    {
     "name": "stdout",
     "output_type": "stream",
     "text": [
      "Enter a number: 23\n",
      "23 is not a Disarium number.\n"
     ]
    }
   ],
   "source": [
    "##1. Check if a Number is a Disarium Number:\n",
    "def is_disarium(num):\n",
    "    num_str = str(num)\n",
    "    return sum(int(digit) ** (i + 1) for i, digit in enumerate(num_str)) == num\n",
    "\n",
    "number = int(input(\"Enter a number: \"))\n",
    "if is_disarium(number):\n",
    "    print(f\"{number} is a Disarium number.\")\n",
    "else:\n",
    "    print(f\"{number} is not a Disarium number.\")\n"
   ]
  },
  {
   "cell_type": "code",
   "execution_count": 2,
   "metadata": {},
   "outputs": [
    {
     "name": "stdout",
     "output_type": "stream",
     "text": [
      "Disarium numbers between 1 and 100 are: [1, 2, 3, 4, 5, 6, 7, 8, 9, 89]\n"
     ]
    }
   ],
   "source": [
    "##2. Print All Disarium Numbers Between 1 to 100:\n",
    "def disarium_numbers_in_range(start, end):\n",
    "    return [num for num in range(start, end + 1) if is_disarium(num)]\n",
    "\n",
    "result = disarium_numbers_in_range(1, 100)\n",
    "print(f\"Disarium numbers between 1 and 100 are: {result}\")\n"
   ]
  },
  {
   "cell_type": "code",
   "execution_count": 3,
   "metadata": {},
   "outputs": [
    {
     "name": "stdout",
     "output_type": "stream",
     "text": [
      "Enter a number: 45\n",
      "45 is not a Happy number.\n"
     ]
    }
   ],
   "source": [
    "##3. Check if a Number is a Happy Number:\n",
    "def is_happy_number(num):\n",
    "    seen = set()\n",
    "    while num != 1 and num not in seen:\n",
    "        seen.add(num)\n",
    "        num = sum(int(digit) ** 2 for digit in str(num))\n",
    "    return num == 1\n",
    "\n",
    "number = int(input(\"Enter a number: \"))\n",
    "if is_happy_number(number):\n",
    "    print(f\"{number} is a Happy number.\")\n",
    "else:\n",
    "    print(f\"{number} is not a Happy number.\")\n"
   ]
  },
  {
   "cell_type": "code",
   "execution_count": 4,
   "metadata": {},
   "outputs": [
    {
     "name": "stdout",
     "output_type": "stream",
     "text": [
      "Happy numbers between 1 and 100 are: [1, 7, 10, 13, 19, 23, 28, 31, 32, 44, 49, 68, 70, 79, 82, 86, 91, 94, 97, 100]\n"
     ]
    }
   ],
   "source": [
    "##4. Print All Happy Numbers Between 1 and 100:\n",
    "def happy_numbers_in_range(start, end):\n",
    "    return [num for num in range(start, end + 1) if is_happy_number(num)]\n",
    "\n",
    "result = happy_numbers_in_range(1, 100)\n",
    "print(f\"Happy numbers between 1 and 100 are: {result}\")\n"
   ]
  },
  {
   "cell_type": "code",
   "execution_count": 5,
   "metadata": {},
   "outputs": [
    {
     "name": "stdout",
     "output_type": "stream",
     "text": [
      "Enter a number: 54\n",
      "54 is a Harshad number.\n"
     ]
    }
   ],
   "source": [
    "##5. Determine Whether the Given Number is a Harshad Number:\n",
    "def is_harshad_number(num):\n",
    "    return num % sum(int(digit) for digit in str(num)) == 0\n",
    "\n",
    "number = int(input(\"Enter a number: \"))\n",
    "if is_harshad_number(number):\n",
    "    print(f\"{number} is a Harshad number.\")\n",
    "else:\n",
    "    print(f\"{number} is not a Harshad number.\")\n"
   ]
  },
  {
   "cell_type": "code",
   "execution_count": 6,
   "metadata": {},
   "outputs": [
    {
     "name": "stdout",
     "output_type": "stream",
     "text": [
      "Pronic numbers between 1 and 100 are: [2, 6, 12, 20, 30, 42, 56, 72, 90]\n"
     ]
    }
   ],
   "source": [
    "##6. Print All Pronic Numbers Between 1 and 100:\n",
    "def pronic_numbers_in_range(start, end):\n",
    "    return [num for num in range(start, end + 1) if any(i * (i + 1) == num for i in range(int(num**0.5) + 1))]\n",
    "\n",
    "result = pronic_numbers_in_range(1, 100)\n",
    "print(f\"Pronic numbers between 1 and 100 are: {result}\")\n"
   ]
  },
  {
   "cell_type": "code",
   "execution_count": null,
   "metadata": {},
   "outputs": [],
   "source": []
  }
 ],
 "metadata": {
  "kernelspec": {
   "display_name": "Python 3",
   "language": "python",
   "name": "python3"
  },
  "language_info": {
   "codemirror_mode": {
    "name": "ipython",
    "version": 3
   },
   "file_extension": ".py",
   "mimetype": "text/x-python",
   "name": "python",
   "nbconvert_exporter": "python",
   "pygments_lexer": "ipython3",
   "version": "3.8.5"
  }
 },
 "nbformat": 4,
 "nbformat_minor": 4
}
