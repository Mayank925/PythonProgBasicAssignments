{
 "cells": [
  {
   "cell_type": "code",
   "execution_count": 1,
   "metadata": {},
   "outputs": [
    {
     "name": "stdout",
     "output_type": "stream",
     "text": [
      "2\n",
      "3\n",
      "0\n"
     ]
    }
   ],
   "source": [
    "##Question 1:\n",
    "def equal(a, b, c):\n",
    "    if a == b == c:\n",
    "        return 3\n",
    "    elif a == b or a == c or b == c:\n",
    "        return 2\n",
    "    else:\n",
    "        return 0\n",
    "\n",
    "# Examples\n",
    "print(equal(3, 4, 3)) \n",
    "print(equal(1, 1, 1))\n",
    "print(equal(3, 4, 1)) \n"
   ]
  },
  {
   "cell_type": "code",
   "execution_count": 2,
   "metadata": {},
   "outputs": [
    {
     "name": "stdout",
     "output_type": "stream",
     "text": [
      "[('B', 2), ('C', 3), ('D', 1)]\n",
      "[('dislikes', 3), ('followers', 10), ('likes', 2)]\n"
     ]
    }
   ],
   "source": [
    "##Question 2:\n",
    "def dict_to_list(d):\n",
    "    return sorted(d.items())\n",
    "\n",
    "# Examples\n",
    "print(dict_to_list({\n",
    "  \"D\": 1,\n",
    "  \"B\": 2,\n",
    "  \"C\": 3\n",
    "})) \n",
    "\n",
    "print(dict_to_list({\n",
    "  \"likes\": 2,\n",
    "  \"dislikes\": 3,\n",
    "  \"followers\": 10\n",
    "}))  \n"
   ]
  },
  {
   "cell_type": "code",
   "execution_count": 3,
   "metadata": {},
   "outputs": [
    {
     "name": "stdout",
     "output_type": "stream",
     "text": [
      "{'p': 'P', 's': 'S'}\n",
      "{'a': 'A', 'b': 'B', 'c': 'C'}\n",
      "{'a': 'A', 'v': 'V', 'y': 'Y', 'z': 'Z'}\n"
     ]
    }
   ],
   "source": [
    "##Question 3:\n",
    "def mapping(lst):\n",
    "    return {letter: letter.upper() for letter in lst}\n",
    "\n",
    "# Examples\n",
    "print(mapping([\"p\", \"s\"]))   \n",
    "print(mapping([\"a\", \"b\", \"c\"])) \n",
    "print(mapping([\"a\", \"v\", \"y\", \"z\"])) \n"
   ]
  },
  {
   "cell_type": "code",
   "execution_count": 4,
   "metadata": {},
   "outputs": [
    {
     "name": "stdout",
     "output_type": "stream",
     "text": [
      "upplus und bununus\n",
      "chooso cossorolo\n",
      "steffed jelepene peppers\n"
     ]
    }
   ],
   "source": [
    "##Question 4:\n",
    "def vow_replace(s, v):\n",
    "    vowels = \"aeiou\"\n",
    "    return ''.join(v if char in vowels else char for char in s)\n",
    "\n",
    "# Examples\n",
    "print(vow_replace(\"apples and bananas\", \"u\"))  \n",
    "print(vow_replace(\"cheese casserole\", \"o\"))   \n",
    "print(vow_replace(\"stuffed jalapeno poppers\", \"e\")) \n"
   ]
  },
  {
   "cell_type": "code",
   "execution_count": 5,
   "metadata": {},
   "outputs": [
    {
     "name": "stdout",
     "output_type": "stream",
     "text": [
      "To Be oR NoT To Be!\n",
      "THe LiTTLe meRmaiD\n",
      "oH wHaT a BeauTiFuL moRNiNg.\n"
     ]
    }
   ],
   "source": [
    "##Question 5:\n",
    "def ascii_capitalize(s):\n",
    "    return ''.join(char.upper() if ord(char) % 2 == 0 else char.lower() for char in s)\n",
    "\n",
    "# Examples\n",
    "print(ascii_capitalize(\"to be or not to be!\"))  \n",
    "print(ascii_capitalize(\"THE LITTLE MERMAID\"))   \n",
    "print(ascii_capitalize(\"Oh what a beautiful morning.\")) \n"
   ]
  },
  {
   "cell_type": "code",
   "execution_count": null,
   "metadata": {},
   "outputs": [],
   "source": []
  }
 ],
 "metadata": {
  "kernelspec": {
   "display_name": "Python 3",
   "language": "python",
   "name": "python3"
  },
  "language_info": {
   "codemirror_mode": {
    "name": "ipython",
    "version": 3
   },
   "file_extension": ".py",
   "mimetype": "text/x-python",
   "name": "python",
   "nbconvert_exporter": "python",
   "pygments_lexer": "ipython3",
   "version": "3.8.5"
  }
 },
 "nbformat": 4,
 "nbformat_minor": 4
}
