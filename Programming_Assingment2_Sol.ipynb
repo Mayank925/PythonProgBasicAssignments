{
 "cells": [
  {
   "cell_type": "code",
   "execution_count": 1,
   "metadata": {},
   "outputs": [
    {
     "name": "stdout",
     "output_type": "stream",
     "text": [
      "Enter distance in kilometers: 20\n",
      "20.0 kilometers is equal to 12.42742 miles\n"
     ]
    }
   ],
   "source": [
    "##1 Convert kilometers to miles:\n",
    "def km_to_miles(kilometers):\n",
    "    conversion_factor = 0.621371\n",
    "    miles = kilometers * conversion_factor\n",
    "    return miles\n",
    "\n",
    "kilometers = float(input(\"Enter distance in kilometers: \"))\n",
    "miles = km_to_miles(kilometers)\n",
    "print(f\"{kilometers} kilometers is equal to {miles} miles\")\n"
   ]
  },
  {
   "cell_type": "code",
   "execution_count": 2,
   "metadata": {},
   "outputs": [
    {
     "name": "stdout",
     "output_type": "stream",
     "text": [
      "Enter temperature in Celsius: 98\n",
      "98.0 Celsius is equal to 208.4 Fahrenheit\n"
     ]
    }
   ],
   "source": [
    "##2 Convert Celsius to Fahrenheit:\n",
    "def celsius_to_fahrenheit(celsius):\n",
    "    fahrenheit = (celsius * 9/5) + 32\n",
    "    return fahrenheit\n",
    "\n",
    "celsius = float(input(\"Enter temperature in Celsius: \"))\n",
    "fahrenheit = celsius_to_fahrenheit(celsius)\n",
    "print(f\"{celsius} Celsius is equal to {fahrenheit} Fahrenheit\")\n"
   ]
  },
  {
   "cell_type": "code",
   "execution_count": 3,
   "metadata": {},
   "outputs": [
    {
     "name": "stdout",
     "output_type": "stream",
     "text": [
      "Enter year: 1995\n",
      "Enter month: 06\n",
      "\n",
      "      June 1995\n",
      "Mo Tu We Th Fr Sa Su\n",
      "          1  2  3  4\n",
      " 5  6  7  8  9 10 11\n",
      "12 13 14 15 16 17 18\n",
      "19 20 21 22 23 24 25\n",
      "26 27 28 29 30\n",
      "\n"
     ]
    }
   ],
   "source": [
    "##3 Display calendar:\n",
    "import calendar\n",
    "\n",
    "year = int(input(\"Enter year: \"))\n",
    "month = int(input(\"Enter month: \"))\n",
    "\n",
    "print(\"\\n\", calendar.month(year, month))\n"
   ]
  },
  {
   "cell_type": "code",
   "execution_count": 4,
   "metadata": {},
   "outputs": [
    {
     "name": "stdout",
     "output_type": "stream",
     "text": [
      "Enter coefficient a: 2\n",
      "Enter coefficient b: 4\n",
      "Enter coefficient c: 3\n",
      "The roots of the quadratic equation are: ((-1+0.7071067811865476j), (-1-0.7071067811865476j))\n"
     ]
    }
   ],
   "source": [
    "##4 Solve quadratic equation:\n",
    "import cmath\n",
    "\n",
    "def solve_quadratic(a, b, c):\n",
    "    d = cmath.sqrt(b**2 - 4*a*c)\n",
    "    root1 = (-b + d) / (2*a)\n",
    "    root2 = (-b - d) / (2*a)\n",
    "    return root1, root2\n",
    "\n",
    "a = float(input(\"Enter coefficient a: \"))\n",
    "b = float(input(\"Enter coefficient b: \"))\n",
    "c = float(input(\"Enter coefficient c: \"))\n",
    "\n",
    "roots = solve_quadratic(a, b, c)\n",
    "print(f\"The roots of the quadratic equation are: {roots}\")\n"
   ]
  },
  {
   "cell_type": "code",
   "execution_count": 5,
   "metadata": {},
   "outputs": [
    {
     "name": "stdout",
     "output_type": "stream",
     "text": [
      "After swapping - a: 10 b: 5\n"
     ]
    }
   ],
   "source": [
    "## Swap two variables without temp variable:\n",
    "a = 5\n",
    "b = 10\n",
    "\n",
    "a, b = b, a\n",
    "\n",
    "print(\"After swapping - a:\", a, \"b:\", b)\n"
   ]
  },
  {
   "cell_type": "code",
   "execution_count": null,
   "metadata": {},
   "outputs": [],
   "source": []
  }
 ],
 "metadata": {
  "kernelspec": {
   "display_name": "Python 3",
   "language": "python",
   "name": "python3"
  },
  "language_info": {
   "codemirror_mode": {
    "name": "ipython",
    "version": 3
   },
   "file_extension": ".py",
   "mimetype": "text/x-python",
   "name": "python",
   "nbconvert_exporter": "python",
   "pygments_lexer": "ipython3",
   "version": "3.8.5"
  }
 },
 "nbformat": 4,
 "nbformat_minor": 4
}
