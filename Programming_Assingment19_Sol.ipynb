{
 "cells": [
  {
   "cell_type": "code",
   "execution_count": 1,
   "metadata": {},
   "outputs": [
    {
     "name": "stdout",
     "output_type": "stream",
     "text": [
      "SSttrriinngg\n",
      "HHeelllloo  WWoorrlldd!!\n",
      "11223344!!__  \n"
     ]
    }
   ],
   "source": [
    "##Question 1:\n",
    "def double_char(s):\n",
    "    return ''.join([c * 2 for c in s])\n",
    "\n",
    "# Examples\n",
    "print(double_char(\"String\"))        \n",
    "print(double_char(\"Hello World!\"))  \n",
    "print(double_char(\"1234!_ \"))       \n"
   ]
  },
  {
   "cell_type": "code",
   "execution_count": 2,
   "metadata": {},
   "outputs": [
    {
     "name": "stdout",
     "output_type": "stream",
     "text": [
      "False\n",
      "True\n",
      "boolean expected\n",
      "boolean expected\n"
     ]
    }
   ],
   "source": [
    "##Question 2:\n",
    "def reverse(value):\n",
    "    if type(value) == bool:\n",
    "        return not value\n",
    "    else:\n",
    "        return \"boolean expected\"\n",
    "\n",
    "# Examples\n",
    "print(reverse(True))  \n",
    "print(reverse(False)) \n",
    "print(reverse(0))     \n",
    "print(reverse(None))  \n"
   ]
  },
  {
   "cell_type": "code",
   "execution_count": 3,
   "metadata": {},
   "outputs": [
    {
     "name": "stdout",
     "output_type": "stream",
     "text": [
      "0.001m\n",
      "0.008m\n",
      "1048.576m\n"
     ]
    }
   ],
   "source": [
    "##Question 3:\n",
    "def num_layers(n):\n",
    "    thickness = 0.5 * (2 ** n) / 1000\n",
    "    return f\"{thickness:.3f}m\"\n",
    "\n",
    "# Examples\n",
    "print(num_layers(1))   \n",
    "print(num_layers(4))  \n",
    "print(num_layers(21))  \n"
   ]
  },
  {
   "cell_type": "code",
   "execution_count": 4,
   "metadata": {},
   "outputs": [
    {
     "name": "stdout",
     "output_type": "stream",
     "text": [
      "[1, 3, 5]\n",
      "[1, 3, 4, 6]\n",
      "[]\n",
      "[0, 1, 2, 3, 4, 5]\n",
      "[1]\n"
     ]
    }
   ],
   "source": [
    "##Question 4:\n",
    "def index_of_caps(s):\n",
    "    return [i for i, char in enumerate(s) if char.isupper()]\n",
    "\n",
    "# Examples\n",
    "print(index_of_caps(\"eDaBiT\"))      \n",
    "print(index_of_caps(\"eQuINoX\"))      \n",
    "print(index_of_caps(\"determine\"))    \n",
    "print(index_of_caps(\"STRIKE\"))       \n",
    "print(index_of_caps(\"sUn\"))          \n"
   ]
  },
  {
   "cell_type": "code",
   "execution_count": 5,
   "metadata": {},
   "outputs": [
    {
     "name": "stdout",
     "output_type": "stream",
     "text": [
      "[2, 4, 6, 8]\n",
      "[2, 4]\n",
      "[2]\n"
     ]
    }
   ],
   "source": [
    "##Question 5:\n",
    "def find_even_nums(n):\n",
    "    return [i for i in range(2, n + 1, 2)]\n",
    "\n",
    "# Examples\n",
    "print(find_even_nums(8))  \n",
    "print(find_even_nums(4))  \n",
    "print(find_even_nums(2))  \n"
   ]
  },
  {
   "cell_type": "code",
   "execution_count": null,
   "metadata": {},
   "outputs": [],
   "source": []
  }
 ],
 "metadata": {
  "kernelspec": {
   "display_name": "Python 3",
   "language": "python",
   "name": "python3"
  },
  "language_info": {
   "codemirror_mode": {
    "name": "ipython",
    "version": 3
   },
   "file_extension": ".py",
   "mimetype": "text/x-python",
   "name": "python",
   "nbconvert_exporter": "python",
   "pygments_lexer": "ipython3",
   "version": "3.8.5"
  }
 },
 "nbformat": 4,
 "nbformat_minor": 4
}
