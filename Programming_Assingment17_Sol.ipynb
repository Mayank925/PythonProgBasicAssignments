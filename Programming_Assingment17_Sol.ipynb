{
 "cells": [
  {
   "cell_type": "code",
   "execution_count": 1,
   "metadata": {},
   "outputs": [
    {
     "name": "stdout",
     "output_type": "stream",
     "text": [
      "0\n",
      "30\n",
      "18\n"
     ]
    }
   ],
   "source": [
    "##Question 1:\n",
    "def evenly_divisible(a, b, c):\n",
    "    return sum(i for i in range(a, b + 1) if i % c == 0)\n",
    "\n",
    "# Examples\n",
    "print(evenly_divisible(1, 10, 20)) \n",
    "print(evenly_divisible(1, 10, 2)) \n",
    "print(evenly_divisible(1, 10, 3))\n"
   ]
  },
  {
   "cell_type": "code",
   "execution_count": 2,
   "metadata": {},
   "outputs": [
    {
     "name": "stdout",
     "output_type": "stream",
     "text": [
      "True\n",
      "False\n",
      "True\n"
     ]
    }
   ],
   "source": [
    "##Question 2:\n",
    "def correct_signs(expression):\n",
    "    return eval(expression)\n",
    "\n",
    "# Examples\n",
    "print(correct_signs(\"3 < 7 < 11\"))       \n",
    "print(correct_signs(\"13 > 44 > 33 > 1\")) \n",
    "print(correct_signs(\"1 < 2 < 6 < 9 > 3\"))\n"
   ]
  },
  {
   "cell_type": "code",
   "execution_count": 3,
   "metadata": {},
   "outputs": [
    {
     "name": "stdout",
     "output_type": "stream",
     "text": [
      "th# ##rdv#rk\n",
      "m?nn?? m??s?\n",
      "sh*k*sp**r*\n"
     ]
    }
   ],
   "source": [
    "##Question 3:\n",
    "def replace_vowels(string, char):\n",
    "    vowels = \"aeiouAEIOU\"\n",
    "    return ''.join(char if c in vowels else c for c in string)\n",
    "\n",
    "# Examples\n",
    "print(replace_vowels(\"the aardvark\", \"#\"))  \n",
    "print(replace_vowels(\"minnie mouse\", \"?\")) \n",
    "print(replace_vowels(\"shakespeare\", \"*\"))\n"
   ]
  },
  {
   "cell_type": "code",
   "execution_count": 4,
   "metadata": {},
   "outputs": [
    {
     "name": "stdout",
     "output_type": "stream",
     "text": [
      "120\n",
      "6\n",
      "1\n",
      "1\n"
     ]
    }
   ],
   "source": [
    "##Question 4:\n",
    "def factorial(n):\n",
    "    if n == 0 or n == 1:\n",
    "        return 1\n",
    "    else:\n",
    "        return n * factorial(n - 1)\n",
    "\n",
    "# Examples\n",
    "print(factorial(5))\n",
    "print(factorial(3))\n",
    "print(factorial(1))\n",
    "print(factorial(0))\n"
   ]
  },
  {
   "cell_type": "code",
   "execution_count": 5,
   "metadata": {},
   "outputs": [
    {
     "name": "stdout",
     "output_type": "stream",
     "text": [
      "5\n",
      "0\n",
      "1\n"
     ]
    }
   ],
   "source": [
    "##Question 5:\n",
    "def hamming_distance(str1, str2):\n",
    "    return sum(c1 != c2 for c1, c2 in zip(str1, str2))\n",
    "\n",
    "# Examples\n",
    "print(hamming_distance(\"abcde\", \"bcdef\")) \n",
    "print(hamming_distance(\"abcde\", \"abcde\")) \n",
    "print(hamming_distance(\"strong\", \"strung\"))\n"
   ]
  },
  {
   "cell_type": "code",
   "execution_count": null,
   "metadata": {},
   "outputs": [],
   "source": []
  }
 ],
 "metadata": {
  "kernelspec": {
   "display_name": "Python 3",
   "language": "python",
   "name": "python3"
  },
  "language_info": {
   "codemirror_mode": {
    "name": "ipython",
    "version": 3
   },
   "file_extension": ".py",
   "mimetype": "text/x-python",
   "name": "python",
   "nbconvert_exporter": "python",
   "pygments_lexer": "ipython3",
   "version": "3.8.5"
  }
 },
 "nbformat": 4,
 "nbformat_minor": 4
}
