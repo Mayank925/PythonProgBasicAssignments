{
 "cells": [
  {
   "cell_type": "code",
   "execution_count": 1,
   "metadata": {},
   "outputs": [
    {
     "name": "stdout",
     "output_type": "stream",
     "text": [
      "Enter the number of terms for Fibonacci sequence: 5\n",
      "Fibonacci Sequence: [0, 1, 1, 2, 3]\n"
     ]
    }
   ],
   "source": [
    "##1. Display Fibonacci Sequence Using Recursion:\n",
    "def fibonacci(n):\n",
    "    if n <= 0:\n",
    "        return []\n",
    "    elif n == 1:\n",
    "        return [0]\n",
    "    elif n == 2:\n",
    "        return [0, 1]\n",
    "    else:\n",
    "        fib_sequence = fibonacci(n - 1)\n",
    "        fib_sequence.append(fib_sequence[-1] + fib_sequence[-2])\n",
    "        return fib_sequence\n",
    "\n",
    "num_terms = int(input(\"Enter the number of terms for Fibonacci sequence: \"))\n",
    "result = fibonacci(num_terms)\n",
    "print(f\"Fibonacci Sequence: {result}\")\n"
   ]
  },
  {
   "cell_type": "code",
   "execution_count": 2,
   "metadata": {},
   "outputs": [
    {
     "name": "stdout",
     "output_type": "stream",
     "text": [
      "Enter a number to find factorial: 4\n",
      "Factorial of 4 is 24\n"
     ]
    }
   ],
   "source": [
    "##2. Find Factorial of Number Using Recursion:\n",
    "def factorial(n):\n",
    "    if n == 0 or n == 1:\n",
    "        return 1\n",
    "    else:\n",
    "        return n * factorial(n - 1)\n",
    "\n",
    "num = int(input(\"Enter a number to find factorial: \"))\n",
    "result = factorial(num)\n",
    "print(f\"Factorial of {num} is {result}\")\n"
   ]
  },
  {
   "cell_type": "code",
   "execution_count": 3,
   "metadata": {},
   "outputs": [
    {
     "name": "stdout",
     "output_type": "stream",
     "text": [
      "Enter your weight in kilograms: 122\n",
      "Enter your height in meters: 1.7\n",
      "Your Body Mass Index (BMI) is: 42.214532871972324\n"
     ]
    }
   ],
   "source": [
    "##3. Calculate Body Mass Index (BMI):\n",
    "def calculate_bmi(weight, height):\n",
    "    return weight / (height ** 2)\n",
    "\n",
    "weight = float(input(\"Enter your weight in kilograms: \"))\n",
    "height = float(input(\"Enter your height in meters: \"))\n",
    "bmi = calculate_bmi(weight, height)\n",
    "print(f\"Your Body Mass Index (BMI) is: {bmi}\")\n"
   ]
  },
  {
   "cell_type": "code",
   "execution_count": 4,
   "metadata": {},
   "outputs": [
    {
     "name": "stdout",
     "output_type": "stream",
     "text": [
      "Enter a number to calculate natural logarithm: 34\n",
      "Natural Logarithm of 34.0 is: 3.5263605246161616\n"
     ]
    }
   ],
   "source": [
    "##4. Calculate Natural Logarithm of Any Number:\n",
    "import math\n",
    "\n",
    "number = float(input(\"Enter a number to calculate natural logarithm: \"))\n",
    "result = math.log(number)\n",
    "print(f\"Natural Logarithm of {number} is: {result}\")\n"
   ]
  },
  {
   "cell_type": "code",
   "execution_count": 5,
   "metadata": {},
   "outputs": [
    {
     "name": "stdout",
     "output_type": "stream",
     "text": [
      "Enter the value of n for cube sum: 4\n",
      "Cube Sum of first 4 natural numbers is: 100\n"
     ]
    }
   ],
   "source": [
    "##5. Cube Sum of First n Natural Numbers:\n",
    "def cube_sum(n):\n",
    "    return sum(i**3 for i in range(1, n + 1))\n",
    "\n",
    "num_terms = int(input(\"Enter the value of n for cube sum: \"))\n",
    "result = cube_sum(num_terms)\n",
    "print(f\"Cube Sum of first {num_terms} natural numbers is: {result}\")\n"
   ]
  },
  {
   "cell_type": "code",
   "execution_count": null,
   "metadata": {},
   "outputs": [],
   "source": []
  }
 ],
 "metadata": {
  "kernelspec": {
   "display_name": "Python 3",
   "language": "python",
   "name": "python3"
  },
  "language_info": {
   "codemirror_mode": {
    "name": "ipython",
    "version": 3
   },
   "file_extension": ".py",
   "mimetype": "text/x-python",
   "name": "python",
   "nbconvert_exporter": "python",
   "pygments_lexer": "ipython3",
   "version": "3.8.5"
  }
 },
 "nbformat": 4,
 "nbformat_minor": 4
}
