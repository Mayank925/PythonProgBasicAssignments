{
 "cells": [
  {
   "cell_type": "code",
   "execution_count": 2,
   "metadata": {},
   "outputs": [
    {
     "name": "stdout",
     "output_type": "stream",
     "text": [
      "Enter the number of rows for the first matrix: 2\n",
      "Enter elements of the first matrix separated by space: 1 2 3 4\n",
      "Enter elements of the first matrix separated by space: 1 2 3 4\n",
      "Enter the number of rows for the second matrix: 2\n",
      "Enter elements of the second matrix separated by space: 1 2 3 4\n",
      "Enter elements of the second matrix separated by space: 1 2 3 4\n",
      "Sum of the matrices is: [[2, 4, 6, 8], [2, 4, 6, 8]]\n"
     ]
    }
   ],
   "source": [
    "##1. Add Two Matrices:\n",
    "def add_matrices(mat1, mat2):\n",
    "    return [[mat1[i][j] + mat2[i][j] for j in range(len(mat1[0]))] for i in range(len(mat1))]\n",
    "\n",
    "matrix1 = [[int(x) for x in input(\"Enter elements of the first matrix separated by space: \").split()] for _ in range(int(input(\"Enter the number of rows for the first matrix: \")))]\n",
    "matrix2 = [[int(x) for x in input(\"Enter elements of the second matrix separated by space: \").split()] for _ in range(int(input(\"Enter the number of rows for the second matrix: \")))]\n",
    "\n",
    "result = add_matrices(matrix1, matrix2)\n",
    "print(f\"Sum of the matrices is: {result}\")\n"
   ]
  },
  {
   "cell_type": "code",
   "execution_count": 3,
   "metadata": {},
   "outputs": [
    {
     "name": "stdout",
     "output_type": "stream",
     "text": [
      "Enter the number of rows for the first matrix: 1\n",
      "Enter elements of the first matrix separated by space: 1 2\n",
      "Enter the number of rows for the second matrix: 2\n",
      "Enter elements of the second matrix separated by space: 1 2 3 4\n",
      "Enter elements of the second matrix separated by space: 1 2 3 4\n",
      "Product of the matrices is: [[3, 6, 9, 12]]\n"
     ]
    }
   ],
   "source": [
    "##2. Multiply Two Matrices:\n",
    "def multiply_matrices(mat1, mat2):\n",
    "    return [[sum(mat1[i][k] * mat2[k][j] for k in range(len(mat2))) for j in range(len(mat2[0]))] for i in range(len(mat1))]\n",
    "\n",
    "matrix1 = [[int(x) for x in input(\"Enter elements of the first matrix separated by space: \").split()] for _ in range(int(input(\"Enter the number of rows for the first matrix: \")))]\n",
    "matrix2 = [[int(x) for x in input(\"Enter elements of the second matrix separated by space: \").split()] for _ in range(int(input(\"Enter the number of rows for the second matrix: \")))]\n",
    "\n",
    "result = multiply_matrices(matrix1, matrix2)\n",
    "print(f\"Product of the matrices is: {result}\")\n"
   ]
  },
  {
   "cell_type": "code",
   "execution_count": null,
   "metadata": {},
   "outputs": [],
   "source": [
    "##3. Transpose a Matrix:\n",
    "def transpose_matrix(mat):\n",
    "    return [[mat[j][i] for j in range(len(mat))] for i in range(len(mat[0]))]\n",
    "\n",
    "matrix = [[int(x) for x in input(\"Enter elements of the matrix separated by space: \").split()] for _ in range(int(input(\"Enter the number of rows for the matrix: \")))]\n",
    "\n",
    "result = transpose_matrix(matrix)\n",
    "print(f\"Transpose of the matrix is: {result}\")\n"
   ]
  },
  {
   "cell_type": "code",
   "execution_count": null,
   "metadata": {},
   "outputs": [],
   "source": [
    "##4. Sort Words in Alphabetic Order:\n",
    "def sort_words(sentence):\n",
    "    words = sentence.split()\n",
    "    return ' '.join(sorted(words))\n",
    "\n",
    "input_sentence = input(\"Enter a sentence: \")\n",
    "result = sort_words(input_sentence)\n",
    "print(f\"Sorted words in alphabetic order: {result}\")\n"
   ]
  },
  {
   "cell_type": "code",
   "execution_count": null,
   "metadata": {},
   "outputs": [],
   "source": [
    "##5. Remove Punctuation From a String:\n",
    "def remove_punctuation(input_string):\n",
    "    punctuation_chars = '''!()-[]{};:'\"\\,<>./?@#$%^&*_~'''\n",
    "    return ''.join(char for char in input_string if char not in punctuation_chars)\n",
    "\n",
    "input_string = input(\"Enter a string with punctuation: \")\n",
    "result = remove_punctuation(input_string)\n",
    "print(f\"String after removing punctuation: {result}\")\n"
   ]
  }
 ],
 "metadata": {
  "kernelspec": {
   "display_name": "Python 3",
   "language": "python",
   "name": "python3"
  },
  "language_info": {
   "codemirror_mode": {
    "name": "ipython",
    "version": 3
   },
   "file_extension": ".py",
   "mimetype": "text/x-python",
   "name": "python",
   "nbconvert_exporter": "python",
   "pygments_lexer": "ipython3",
   "version": "3.8.5"
  }
 },
 "nbformat": 4,
 "nbformat_minor": 4
}
