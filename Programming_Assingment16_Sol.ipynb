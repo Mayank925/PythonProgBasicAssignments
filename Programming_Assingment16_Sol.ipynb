{
 "cells": [
  {
   "cell_type": "code",
   "execution_count": 1,
   "metadata": {},
   "outputs": [
    {
     "name": "stdout",
     "output_type": "stream",
     "text": [
      "in... in... incredible?\n",
      "en... en... enthusiastic?\n",
      "ou... ou... outstanding?\n"
     ]
    }
   ],
   "source": [
    "##Q1\n",
    "def stutter(word):\n",
    "    return f\"{word[:2]}... {word[:2]}... {word}?\"\n",
    "\n",
    "# Examples\n",
    "print(stutter(\"incredible\"))  \n",
    "print(stutter(\"enthusiastic\"))  \n",
    "print(stutter(\"outstanding\")) \n"
   ]
  },
  {
   "cell_type": "code",
   "execution_count": 2,
   "metadata": {},
   "outputs": [
    {
     "name": "stdout",
     "output_type": "stream",
     "text": [
      "57.3\n",
      "1145.9\n",
      "2864.8\n"
     ]
    }
   ],
   "source": [
    "##Q2\n",
    "def radians_to_degrees(radians):\n",
    "    return round(radians * (180 / 3.14159), 1)\n",
    "\n",
    "# Examples\n",
    "print(radians_to_degrees(1))  \n",
    "print(radians_to_degrees(20))  \n",
    "print(radians_to_degrees(50))  \n"
   ]
  },
  {
   "cell_type": "code",
   "execution_count": 3,
   "metadata": {},
   "outputs": [
    {
     "name": "stdout",
     "output_type": "stream",
     "text": [
      "True\n",
      "False\n",
      "True\n"
     ]
    }
   ],
   "source": [
    "##Q3\n",
    "def is_curzon(num):\n",
    "    return (2 ** num + 1) % (2 * num + 1) == 0\n",
    "\n",
    "# Examples\n",
    "print(is_curzon(5))  \n",
    "print(is_curzon(10))  \n",
    "print(is_curzon(14))  \n"
   ]
  },
  {
   "cell_type": "code",
   "execution_count": 4,
   "metadata": {},
   "outputs": [
    {
     "name": "stdout",
     "output_type": "stream",
     "text": [
      "2.6\n",
      "10.4\n",
      "23.4\n"
     ]
    }
   ],
   "source": [
    "##Q4\n",
    "import math\n",
    "\n",
    "def area_of_hexagon(x):\n",
    "    return round(3 * math.sqrt(3) * (x ** 2) / 2, 1)\n",
    "\n",
    "# Examples\n",
    "print(area_of_hexagon(1))  \n",
    "print(area_of_hexagon(2)) \n",
    "print(area_of_hexagon(3))\n"
   ]
  },
  {
   "cell_type": "code",
   "execution_count": 5,
   "metadata": {},
   "outputs": [
    {
     "name": "stdout",
     "output_type": "stream",
     "text": [
      "1\n",
      "101\n",
      "1010\n"
     ]
    }
   ],
   "source": [
    "##Q5\n",
    "def binary(decimal):\n",
    "    return bin(decimal)[2:]\n",
    "\n",
    "# Examples\n",
    "print(binary(1))  \n",
    "print(binary(5))  \n",
    "print(binary(10)) \n"
   ]
  },
  {
   "cell_type": "code",
   "execution_count": null,
   "metadata": {},
   "outputs": [],
   "source": []
  }
 ],
 "metadata": {
  "kernelspec": {
   "display_name": "Python 3",
   "language": "python",
   "name": "python3"
  },
  "language_info": {
   "codemirror_mode": {
    "name": "ipython",
    "version": 3
   },
   "file_extension": ".py",
   "mimetype": "text/x-python",
   "name": "python",
   "nbconvert_exporter": "python",
   "pygments_lexer": "ipython3",
   "version": "3.8.5"
  }
 },
 "nbformat": 4,
 "nbformat_minor": 4
}
